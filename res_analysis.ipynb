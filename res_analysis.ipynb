{
 "cells": [
  {
   "cell_type": "code",
   "execution_count": 1,
   "metadata": {},
   "outputs": [],
   "source": [
    "import pandas as pd\n",
    "import numpy as np\n",
    "import itertools"
   ]
  },
  {
   "cell_type": "code",
   "execution_count": 2,
   "metadata": {},
   "outputs": [],
   "source": [
    "def get_level_agg_metric(metrics,series_names):\n",
    "    level_agg_crps = {}\n",
    "    level_num_list = [len(n.split('_')) for n in series_names]\n",
    "    for level_num in list(set(level_num_list)):\n",
    "        idx_list = [i for i,x in enumerate(level_num_list) if x==level_num]\n",
    "        try:\n",
    "          level_agg_crps[level_num] = np.array(metrics['CRPS'])[idx_list].mean()\n",
    "        except:\n",
    "          level_agg_crps[level_num] = np.array(metrics['crps'])[idx_list].mean()\n",
    "    try:\n",
    "      avg_crps = metrics['CRPS'].mean()\n",
    "    except:\n",
    "      avg_crps = metrics['crps'].mean()\n",
    "    return level_agg_crps, avg_crps"
   ]
  },
  {
   "cell_type": "code",
   "execution_count": 3,
   "metadata": {},
   "outputs": [],
   "source": [
    "hier_dict_name = np.load('data/tourism/hier_dict_name.npy',allow_pickle=True).item()\n",
    "hier_dict = np.load('data/tourism/hier_dict.npy',allow_pickle=True).item()\n",
    "series_names = list(pd.read_csv('data/tourism/series_names.csv',index_col=0)['0'])\n",
    "df_l = []\n",
    "avg_crps_l = []\n",
    "\n",
    "search_params = {\n",
    "        'lstm_dropout': np.arange(0, 0.501, 0.2).tolist(),\n",
    "        'lam':np.arange(0, 0.01, 0.002).tolist()\n",
    "    }\n",
    "keys = sorted(search_params.keys())\n",
    "search_range = list(itertools.product(*[[*range(len(search_params[i]))] for i in keys]))\n",
    "\n",
    "for search_range_ in [(i, ) for i in search_range]:\n",
    "  sr = search_range_ [0]\n",
    "  params = {k: search_params[k][sr[idx]] for idx, k in enumerate(sorted(search_params.keys()))}\n",
    "  model_param_list = '-'.join('_'.join((k, f'{v}')) for k, v in params.items())\n",
    "\n",
    "  try:\n",
    "    my_metrics = np.load(f'experiments/param_search/{model_param_list}/eval_metrics.npy',allow_pickle=True).item()\n",
    "    level_agg_crps,avg_crps = get_level_agg_metric(my_metrics,series_names)\n",
    "    df = pd.DataFrame(level_agg_crps,index=[f'{model_param_list}']).T\n",
    "    avg_crps_l.append(avg_crps)\n",
    "    df_l.append(df)\n",
    "  except:\n",
    "    continue"
   ]
  },
  {
   "cell_type": "code",
   "execution_count": 4,
   "metadata": {},
   "outputs": [
    {
     "data": {
      "text/plain": [
       "21.728591857947034"
      ]
     },
     "execution_count": 4,
     "metadata": {},
     "output_type": "execute_result"
    }
   ],
   "source": [
    "min(avg_crps_l)"
   ]
  },
  {
   "cell_type": "code",
   "execution_count": 5,
   "metadata": {},
   "outputs": [
    {
     "data": {
      "text/plain": [
       "[21.728591857947034,\n",
       " 22.462724026940492,\n",
       " 24.570310280284307,\n",
       " 24.282212271037654,\n",
       " 29.969864391461414,\n",
       " 27.547245313763725,\n",
       " 28.90866194783905,\n",
       " 35.277833035759514,\n",
       " 28.948995355692023]"
      ]
     },
     "execution_count": 5,
     "metadata": {},
     "output_type": "execute_result"
    }
   ],
   "source": [
    "avg_crps_l"
   ]
  },
  {
   "cell_type": "code",
   "execution_count": 6,
   "metadata": {},
   "outputs": [],
   "source": [
    "res_df = pd.concat(df_l,axis=1)"
   ]
  },
  {
   "cell_type": "code",
   "execution_count": 7,
   "metadata": {},
   "outputs": [
    {
     "data": {
      "text/html": [
       "<div>\n",
       "<style scoped>\n",
       "    .dataframe tbody tr th:only-of-type {\n",
       "        vertical-align: middle;\n",
       "    }\n",
       "\n",
       "    .dataframe tbody tr th {\n",
       "        vertical-align: top;\n",
       "    }\n",
       "\n",
       "    .dataframe thead th {\n",
       "        text-align: right;\n",
       "    }\n",
       "</style>\n",
       "<table border=\"1\" class=\"dataframe\">\n",
       "  <thead>\n",
       "    <tr style=\"text-align: right;\">\n",
       "      <th></th>\n",
       "      <th>lam_0.0-lstm_dropout_0.0</th>\n",
       "      <th>lam_0.0-lstm_dropout_0.4</th>\n",
       "      <th>lam_0.002-lstm_dropout_0.2</th>\n",
       "      <th>lam_0.002-lstm_dropout_0.4</th>\n",
       "      <th>lam_0.004-lstm_dropout_0.0</th>\n",
       "      <th>lam_0.004-lstm_dropout_0.4</th>\n",
       "      <th>lam_0.006-lstm_dropout_0.2</th>\n",
       "      <th>lam_0.008-lstm_dropout_0.0</th>\n",
       "      <th>lam_0.008-lstm_dropout_0.4</th>\n",
       "    </tr>\n",
       "  </thead>\n",
       "  <tbody>\n",
       "    <tr>\n",
       "      <th>1</th>\n",
       "      <td>924.028723</td>\n",
       "      <td>1026.469002</td>\n",
       "      <td>1178.718103</td>\n",
       "      <td>1148.182953</td>\n",
       "      <td>2117.863463</td>\n",
       "      <td>1635.103809</td>\n",
       "      <td>1873.506759</td>\n",
       "      <td>3010.898985</td>\n",
       "      <td>2072.580482</td>\n",
       "    </tr>\n",
       "    <tr>\n",
       "      <th>2</th>\n",
       "      <td>187.466772</td>\n",
       "      <td>198.388743</td>\n",
       "      <td>213.152242</td>\n",
       "      <td>206.430301</td>\n",
       "      <td>308.715431</td>\n",
       "      <td>252.601969</td>\n",
       "      <td>278.871756</td>\n",
       "      <td>408.288693</td>\n",
       "      <td>290.202663</td>\n",
       "    </tr>\n",
       "    <tr>\n",
       "      <th>3</th>\n",
       "      <td>32.357973</td>\n",
       "      <td>32.892545</td>\n",
       "      <td>37.577420</td>\n",
       "      <td>36.085930</td>\n",
       "      <td>43.114139</td>\n",
       "      <td>39.861392</td>\n",
       "      <td>42.535400</td>\n",
       "      <td>48.008844</td>\n",
       "      <td>41.290355</td>\n",
       "    </tr>\n",
       "    <tr>\n",
       "      <th>4</th>\n",
       "      <td>12.374924</td>\n",
       "      <td>12.597189</td>\n",
       "      <td>13.285347</td>\n",
       "      <td>13.542525</td>\n",
       "      <td>13.569794</td>\n",
       "      <td>14.134489</td>\n",
       "      <td>13.832043</td>\n",
       "      <td>13.956453</td>\n",
       "      <td>13.290905</td>\n",
       "    </tr>\n",
       "  </tbody>\n",
       "</table>\n",
       "</div>"
      ],
      "text/plain": [
       "   lam_0.0-lstm_dropout_0.0  lam_0.0-lstm_dropout_0.4  \\\n",
       "1                924.028723               1026.469002   \n",
       "2                187.466772                198.388743   \n",
       "3                 32.357973                 32.892545   \n",
       "4                 12.374924                 12.597189   \n",
       "\n",
       "   lam_0.002-lstm_dropout_0.2  lam_0.002-lstm_dropout_0.4  \\\n",
       "1                 1178.718103                 1148.182953   \n",
       "2                  213.152242                  206.430301   \n",
       "3                   37.577420                   36.085930   \n",
       "4                   13.285347                   13.542525   \n",
       "\n",
       "   lam_0.004-lstm_dropout_0.0  lam_0.004-lstm_dropout_0.4  \\\n",
       "1                 2117.863463                 1635.103809   \n",
       "2                  308.715431                  252.601969   \n",
       "3                   43.114139                   39.861392   \n",
       "4                   13.569794                   14.134489   \n",
       "\n",
       "   lam_0.006-lstm_dropout_0.2  lam_0.008-lstm_dropout_0.0  \\\n",
       "1                 1873.506759                 3010.898985   \n",
       "2                  278.871756                  408.288693   \n",
       "3                   42.535400                   48.008844   \n",
       "4                   13.832043                   13.956453   \n",
       "\n",
       "   lam_0.008-lstm_dropout_0.4  \n",
       "1                 2072.580482  \n",
       "2                  290.202663  \n",
       "3                   41.290355  \n",
       "4                   13.290905  "
      ]
     },
     "execution_count": 7,
     "metadata": {},
     "output_type": "execute_result"
    }
   ],
   "source": [
    "res_df"
   ]
  },
  {
   "cell_type": "code",
   "execution_count": 12,
   "metadata": {},
   "outputs": [],
   "source": [
    "res_df.to_csv('params_search.csv')"
   ]
  },
  {
   "cell_type": "code",
   "execution_count": 19,
   "metadata": {},
   "outputs": [
    {
     "data": {
      "text/plain": [
       "[0.0, 0.002, 0.004, 0.006, 0.008]"
      ]
     },
     "execution_count": 19,
     "metadata": {},
     "output_type": "execute_result"
    }
   ],
   "source": [
    "np.arange(0, 0.01, 0.002).tolist()"
   ]
  },
  {
   "cell_type": "code",
   "execution_count": 5,
   "metadata": {},
   "outputs": [
    {
     "data": {
      "text/plain": [
       "{1: 26221.669921875, 2: 1953.0647695270761, 3: 345.158898775539}"
      ]
     },
     "execution_count": 5,
     "metadata": {},
     "output_type": "execute_result"
    }
   ],
   "source": [
    "level_agg_crps"
   ]
  },
  {
   "cell_type": "code",
   "execution_count": null,
   "metadata": {},
   "outputs": [],
   "source": []
  }
 ],
 "metadata": {
  "kernelspec": {
   "display_name": "Python 3.8.10 ('base')",
   "language": "python",
   "name": "python3"
  },
  "language_info": {
   "codemirror_mode": {
    "name": "ipython",
    "version": 3
   },
   "file_extension": ".py",
   "mimetype": "text/x-python",
   "name": "python",
   "nbconvert_exporter": "python",
   "pygments_lexer": "ipython3",
   "version": "3.8.10"
  },
  "orig_nbformat": 4,
  "vscode": {
   "interpreter": {
    "hash": "2f394aca7ca06fed1e6064aef884364492d7cdda3614a461e02e6407fc40ba69"
   }
  }
 },
 "nbformat": 4,
 "nbformat_minor": 2
}
